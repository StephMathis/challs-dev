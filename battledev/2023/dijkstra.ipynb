{
 "cells": [
  {
   "cell_type": "code",
   "execution_count": null,
   "metadata": {},
   "outputs": [],
   "source": [
    "\n",
    "\n",
    "import sys\n",
    "\n",
    "lines = []\n",
    "for line in sys.stdin:\n",
    "\tlines.append(line.rstrip('\\n'))\n",
    "\n",
    "\n",
    "w, h = map(int, lines[0].split())\n",
    "grid = lines[1:]\n",
    "\n",
    "pta = ptb = None\n",
    "for r in range(h):\n",
    "    for c in range(w):\n",
    "        if grid[r][c] == 'A':\n",
    "            pta = (r, c)\n",
    "        if grid[r][c] == 'B':\n",
    "            ptb = (r, c)\n",
    "\n",
    "import heapq\n",
    "def dijkstra(grid, pt1, pt2):\n",
    "    tovisit = [(0, pt1)]\n",
    "    dst = {pt1: 0}\n",
    "    while tovisit:\n",
    "        d, node = heapq.heappop(tovisit)\n",
    "        if node == pt2: return d\n",
    "        r, c = node\n",
    "        for dr, dc in ((-1, 0), (1, 0), (0, -1), (0, 1)):\n",
    "            neigh = (r + dr, c + dc)\n",
    "            if 0 <= r + dr < h and 0 <= c + dc < w and neigh not in dst:\n",
    "                newdist = dst[node] + int(grid[r+dr][c+dc] == '#')\n",
    "                dst[neigh] = newdist\n",
    "                heapq.heappush(tovisit, (newdist, neigh))\n",
    "\n",
    "\n",
    "print(dijkstra(grid, pta, ptb))\n",
    "\n"
   ]
  }
 ],
 "metadata": {
  "language_info": {
   "name": "python"
  },
  "orig_nbformat": 4
 },
 "nbformat": 4,
 "nbformat_minor": 2
}
